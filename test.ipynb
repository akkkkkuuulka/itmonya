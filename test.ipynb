{
 "cells": [
  {
   "cell_type": "code",
   "execution_count": 2,
   "id": "8e75b9dc-2390-4d8b-b28f-0e55abafdb82",
   "metadata": {},
   "outputs": [
    {
     "name": "stdout",
     "output_type": "stream",
     "text": [
      "Found existing installation: langchain 0.3.17\n",
      "Uninstalling langchain-0.3.17:\n",
      "  Successfully uninstalled langchain-0.3.17\n",
      "Found existing installation: langchain-core 0.3.33\n",
      "Uninstalling langchain-core-0.3.33:\n",
      "  Successfully uninstalled langchain-core-0.3.33\n",
      "Found existing installation: langchain-community 0.3.16\n",
      "Uninstalling langchain-community-0.3.16:\n",
      "  Successfully uninstalled langchain-community-0.3.16\n",
      "Found existing installation: langchain-openai 0.3.3\n",
      "Uninstalling langchain-openai-0.3.3:\n",
      "  Successfully uninstalled langchain-openai-0.3.3\n",
      "\u001b[33mWARNING: Skipping langchain-anthropic as it is not installed.\u001b[0m\u001b[33m\n",
      "\u001b[0m\u001b[33mWARNING: Skipping langchain_google_genai as it is not installed.\u001b[0m\u001b[33m\n",
      "\u001b[0m"
     ]
    }
   ],
   "source": [
    "!pip uninstall -y langchain langchain-core langchain-community langchain-openai langchain-anthropic langchain_google_genai\n",
    "!pip install -U langchain langchain-community langchain-core langchain-openai --quiet\n",
    "\n"
   ]
  },
  {
   "cell_type": "markdown",
   "id": "f6ff07d8-3d34-4748-95ac-eb9cb2724202",
   "metadata": {
    "jp-MarkdownHeadingCollapsed": true
   },
   "source": [
    "## Download new site"
   ]
  },
  {
   "cell_type": "code",
   "execution_count": 57,
   "id": "59f72fe2-df93-40d2-a30b-b0d05b92e500",
   "metadata": {},
   "outputs": [
    {
     "name": "stderr",
     "output_type": "stream",
     "text": [
      "Exception ignored in: <finalize object at 0x29d1e0b00; dead>\n",
      "Traceback (most recent call last):\n",
      "  File \"/opt/anaconda3/lib/python3.12/weakref.py\", line 585, in __call__\n",
      "    def __call__(self, _=None):\n",
      "\n",
      "KeyboardInterrupt: \n",
      "Fetching pages:   0%|          | 291/59692 [00:19<1:07:07, 14.75it/s]\n"
     ]
    },
    {
     "ename": "KeyboardInterrupt",
     "evalue": "",
     "output_type": "error",
     "traceback": [
      "\u001b[0;31m---------------------------------------------------------------------------\u001b[0m",
      "\u001b[0;31mKeyboardInterrupt\u001b[0m                         Traceback (most recent call last)",
      "Cell \u001b[0;32mIn[57], line 18\u001b[0m\n\u001b[1;32m     16\u001b[0m sitemap_url \u001b[38;5;241m=\u001b[39m \u001b[38;5;124m\"\u001b[39m\u001b[38;5;124mhttps://news.itmo.ru/module/sitemap.php\u001b[39m\u001b[38;5;124m\"\u001b[39m\n\u001b[1;32m     17\u001b[0m loader \u001b[38;5;241m=\u001b[39m SitemapLoader(sitemap_url)\n\u001b[0;32m---> 18\u001b[0m documents \u001b[38;5;241m=\u001b[39m loader\u001b[38;5;241m.\u001b[39mload()\n\u001b[1;32m     20\u001b[0m \u001b[38;5;66;03m# Save each document as a separate file\u001b[39;00m\n\u001b[1;32m     21\u001b[0m \u001b[38;5;28;01mfor\u001b[39;00m doc \u001b[38;5;129;01min\u001b[39;00m documents:\n",
      "File \u001b[0;32m/opt/anaconda3/lib/python3.12/site-packages/langchain_core/document_loaders/base.py:29\u001b[0m, in \u001b[0;36mBaseLoader.load\u001b[0;34m(self)\u001b[0m\n\u001b[1;32m     27\u001b[0m \u001b[38;5;28;01mdef\u001b[39;00m \u001b[38;5;21mload\u001b[39m(\u001b[38;5;28mself\u001b[39m) \u001b[38;5;241m-\u001b[39m\u001b[38;5;241m>\u001b[39m List[Document]:\n\u001b[1;32m     28\u001b[0m \u001b[38;5;250m    \u001b[39m\u001b[38;5;124;03m\"\"\"Load data into Document objects.\"\"\"\u001b[39;00m\n\u001b[0;32m---> 29\u001b[0m     \u001b[38;5;28;01mreturn\u001b[39;00m \u001b[38;5;28mlist\u001b[39m(\u001b[38;5;28mself\u001b[39m\u001b[38;5;241m.\u001b[39mlazy_load())\n",
      "File \u001b[0;32m/opt/anaconda3/lib/python3.12/site-packages/langchain_community/document_loaders/sitemap.py:212\u001b[0m, in \u001b[0;36mSitemapLoader.lazy_load\u001b[0;34m(self)\u001b[0m\n\u001b[1;32m    209\u001b[0m     \u001b[38;5;28;01melse\u001b[39;00m:\n\u001b[1;32m    210\u001b[0m         els \u001b[38;5;241m=\u001b[39m elblocks[\u001b[38;5;28mself\u001b[39m\u001b[38;5;241m.\u001b[39mblocknum]\n\u001b[0;32m--> 212\u001b[0m results \u001b[38;5;241m=\u001b[39m \u001b[38;5;28mself\u001b[39m\u001b[38;5;241m.\u001b[39mscrape_all([el[\u001b[38;5;124m\"\u001b[39m\u001b[38;5;124mloc\u001b[39m\u001b[38;5;124m\"\u001b[39m]\u001b[38;5;241m.\u001b[39mstrip() \u001b[38;5;28;01mfor\u001b[39;00m el \u001b[38;5;129;01min\u001b[39;00m els \u001b[38;5;28;01mif\u001b[39;00m \u001b[38;5;124m\"\u001b[39m\u001b[38;5;124mloc\u001b[39m\u001b[38;5;124m\"\u001b[39m \u001b[38;5;129;01min\u001b[39;00m el])\n\u001b[1;32m    214\u001b[0m \u001b[38;5;28;01mfor\u001b[39;00m i, result \u001b[38;5;129;01min\u001b[39;00m \u001b[38;5;28menumerate\u001b[39m(results):\n\u001b[1;32m    215\u001b[0m     \u001b[38;5;28;01myield\u001b[39;00m Document(\n\u001b[1;32m    216\u001b[0m         page_content\u001b[38;5;241m=\u001b[39m\u001b[38;5;28mself\u001b[39m\u001b[38;5;241m.\u001b[39mparsing_function(result),\n\u001b[1;32m    217\u001b[0m         metadata\u001b[38;5;241m=\u001b[39m\u001b[38;5;28mself\u001b[39m\u001b[38;5;241m.\u001b[39mmeta_function(els[i], result),\n\u001b[1;32m    218\u001b[0m     )\n",
      "File \u001b[0;32m/opt/anaconda3/lib/python3.12/site-packages/langchain_community/document_loaders/web_base.py:198\u001b[0m, in \u001b[0;36mWebBaseLoader.scrape_all\u001b[0;34m(self, urls, parser)\u001b[0m\n\u001b[1;32m    195\u001b[0m \u001b[38;5;250m\u001b[39m\u001b[38;5;124;03m\"\"\"Fetch all urls, then return soups for all results.\"\"\"\u001b[39;00m\n\u001b[1;32m    196\u001b[0m \u001b[38;5;28;01mfrom\u001b[39;00m \u001b[38;5;21;01mbs4\u001b[39;00m \u001b[38;5;28;01mimport\u001b[39;00m BeautifulSoup\n\u001b[0;32m--> 198\u001b[0m results \u001b[38;5;241m=\u001b[39m asyncio\u001b[38;5;241m.\u001b[39mrun(\u001b[38;5;28mself\u001b[39m\u001b[38;5;241m.\u001b[39mfetch_all(urls))\n\u001b[1;32m    199\u001b[0m final_results \u001b[38;5;241m=\u001b[39m []\n\u001b[1;32m    200\u001b[0m \u001b[38;5;28;01mfor\u001b[39;00m i, result \u001b[38;5;129;01min\u001b[39;00m \u001b[38;5;28menumerate\u001b[39m(results):\n",
      "File \u001b[0;32m/opt/anaconda3/lib/python3.12/site-packages/nest_asyncio.py:30\u001b[0m, in \u001b[0;36m_patch_asyncio.<locals>.run\u001b[0;34m(main, debug)\u001b[0m\n\u001b[1;32m     28\u001b[0m task \u001b[38;5;241m=\u001b[39m asyncio\u001b[38;5;241m.\u001b[39mensure_future(main)\n\u001b[1;32m     29\u001b[0m \u001b[38;5;28;01mtry\u001b[39;00m:\n\u001b[0;32m---> 30\u001b[0m     \u001b[38;5;28;01mreturn\u001b[39;00m loop\u001b[38;5;241m.\u001b[39mrun_until_complete(task)\n\u001b[1;32m     31\u001b[0m \u001b[38;5;28;01mfinally\u001b[39;00m:\n\u001b[1;32m     32\u001b[0m     \u001b[38;5;28;01mif\u001b[39;00m \u001b[38;5;129;01mnot\u001b[39;00m task\u001b[38;5;241m.\u001b[39mdone():\n",
      "File \u001b[0;32m/opt/anaconda3/lib/python3.12/site-packages/nest_asyncio.py:92\u001b[0m, in \u001b[0;36m_patch_loop.<locals>.run_until_complete\u001b[0;34m(self, future)\u001b[0m\n\u001b[1;32m     90\u001b[0m     f\u001b[38;5;241m.\u001b[39m_log_destroy_pending \u001b[38;5;241m=\u001b[39m \u001b[38;5;28;01mFalse\u001b[39;00m\n\u001b[1;32m     91\u001b[0m \u001b[38;5;28;01mwhile\u001b[39;00m \u001b[38;5;129;01mnot\u001b[39;00m f\u001b[38;5;241m.\u001b[39mdone():\n\u001b[0;32m---> 92\u001b[0m     \u001b[38;5;28mself\u001b[39m\u001b[38;5;241m.\u001b[39m_run_once()\n\u001b[1;32m     93\u001b[0m     \u001b[38;5;28;01mif\u001b[39;00m \u001b[38;5;28mself\u001b[39m\u001b[38;5;241m.\u001b[39m_stopping:\n\u001b[1;32m     94\u001b[0m         \u001b[38;5;28;01mbreak\u001b[39;00m\n",
      "File \u001b[0;32m/opt/anaconda3/lib/python3.12/site-packages/nest_asyncio.py:115\u001b[0m, in \u001b[0;36m_patch_loop.<locals>._run_once\u001b[0;34m(self)\u001b[0m\n\u001b[1;32m    108\u001b[0m     heappop(scheduled)\n\u001b[1;32m    110\u001b[0m timeout \u001b[38;5;241m=\u001b[39m (\n\u001b[1;32m    111\u001b[0m     \u001b[38;5;241m0\u001b[39m \u001b[38;5;28;01mif\u001b[39;00m ready \u001b[38;5;129;01mor\u001b[39;00m \u001b[38;5;28mself\u001b[39m\u001b[38;5;241m.\u001b[39m_stopping\n\u001b[1;32m    112\u001b[0m     \u001b[38;5;28;01melse\u001b[39;00m \u001b[38;5;28mmin\u001b[39m(\u001b[38;5;28mmax\u001b[39m(\n\u001b[1;32m    113\u001b[0m         scheduled[\u001b[38;5;241m0\u001b[39m]\u001b[38;5;241m.\u001b[39m_when \u001b[38;5;241m-\u001b[39m \u001b[38;5;28mself\u001b[39m\u001b[38;5;241m.\u001b[39mtime(), \u001b[38;5;241m0\u001b[39m), \u001b[38;5;241m86400\u001b[39m) \u001b[38;5;28;01mif\u001b[39;00m scheduled\n\u001b[1;32m    114\u001b[0m     \u001b[38;5;28;01melse\u001b[39;00m \u001b[38;5;28;01mNone\u001b[39;00m)\n\u001b[0;32m--> 115\u001b[0m event_list \u001b[38;5;241m=\u001b[39m \u001b[38;5;28mself\u001b[39m\u001b[38;5;241m.\u001b[39m_selector\u001b[38;5;241m.\u001b[39mselect(timeout)\n\u001b[1;32m    116\u001b[0m \u001b[38;5;28mself\u001b[39m\u001b[38;5;241m.\u001b[39m_process_events(event_list)\n\u001b[1;32m    118\u001b[0m end_time \u001b[38;5;241m=\u001b[39m \u001b[38;5;28mself\u001b[39m\u001b[38;5;241m.\u001b[39mtime() \u001b[38;5;241m+\u001b[39m \u001b[38;5;28mself\u001b[39m\u001b[38;5;241m.\u001b[39m_clock_resolution\n",
      "File \u001b[0;32m/opt/anaconda3/lib/python3.12/selectors.py:566\u001b[0m, in \u001b[0;36mKqueueSelector.select\u001b[0;34m(self, timeout)\u001b[0m\n\u001b[1;32m    564\u001b[0m ready \u001b[38;5;241m=\u001b[39m []\n\u001b[1;32m    565\u001b[0m \u001b[38;5;28;01mtry\u001b[39;00m:\n\u001b[0;32m--> 566\u001b[0m     kev_list \u001b[38;5;241m=\u001b[39m \u001b[38;5;28mself\u001b[39m\u001b[38;5;241m.\u001b[39m_selector\u001b[38;5;241m.\u001b[39mcontrol(\u001b[38;5;28;01mNone\u001b[39;00m, max_ev, timeout)\n\u001b[1;32m    567\u001b[0m \u001b[38;5;28;01mexcept\u001b[39;00m \u001b[38;5;167;01mInterruptedError\u001b[39;00m:\n\u001b[1;32m    568\u001b[0m     \u001b[38;5;28;01mreturn\u001b[39;00m ready\n",
      "\u001b[0;31mKeyboardInterrupt\u001b[0m: "
     ]
    }
   ],
   "source": [
    "from langchain_community.document_loaders import SitemapLoader\n",
    "import os\n",
    "from urllib.parse import urlparse\n",
    "from pathlib import Path\n",
    "\n",
    "# Define paths\n",
    "CACHE_DIR = \"sitemap_data\"\n",
    "os.makedirs(CACHE_DIR, exist_ok=True)\n",
    "\n",
    "def slugify_url(url: str) -> str:\n",
    "    \"\"\"Convert URL to a filesystem-safe name.\"\"\"\n",
    "    parsed = urlparse(url)\n",
    "    return f\"{parsed.netloc}{parsed.path}\".replace(\"/\", \"_\").replace(\".\", \"_\")\n",
    "\n",
    "# Load sitemap and save to disk\n",
    "sitemap_url = \"https://news.itmo.ru/module/sitemap.php\"\n",
    "loader = SitemapLoader(sitemap_url)\n",
    "documents = loader.load()\n",
    "\n",
    "# Save each document as a separate file\n",
    "for doc in documents:\n",
    "    url = doc.metadata[\"source\"]\n",
    "    filename = f\"{slugify_url(url)}.txt\"\n",
    "    filepath = Path(CACHE_DIR) / filename\n",
    "    \n",
    "    # Write content to disk\n",
    "    with open(filepath, \"w\", encoding=\"utf-8\") as f:\n",
    "        f.write(doc.page_content)\n",
    "    \n",
    "    print(f\"Saved: {filepath}\")\n"
   ]
  },
  {
   "cell_type": "code",
   "execution_count": null,
   "id": "b29d66f3-39b1-4b75-9abb-45298abc73bc",
   "metadata": {},
   "outputs": [],
   "source": []
  },
  {
   "cell_type": "markdown",
   "id": "0e27dd32-6647-4e99-803a-2a91b3e98af4",
   "metadata": {},
   "source": [
    "## Prepare model and api keys"
   ]
  },
  {
   "cell_type": "code",
   "execution_count": 14,
   "id": "a779fc81-e34f-4c20-82ca-6be2716e0c33",
   "metadata": {},
   "outputs": [],
   "source": [
    "import os\n",
    "import json\n",
    "# Set API keys (replace with your actual keys)\n",
    "TAVILY_API_KEY = \"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\"\n",
    "OPENAI_API_KEY = \"sk-aitunnel-GlP8MYqkbc3ethsARsD0KLI9LfiiG1kP\"\n",
    "\n",
    "os.environ[\"TAVILY_API_KEY\"] = TAVILY_API_KEY\n",
    "os.environ[\"OPENAI_API_KEY\"] = OPENAI_API_KEY\n",
    "\n"
   ]
  },
  {
   "cell_type": "markdown",
   "id": "c5ef38ac-a962-4c1e-b129-0e917ada2f26",
   "metadata": {},
   "source": [
    "## Defina ReAct"
   ]
  },
  {
   "cell_type": "code",
   "execution_count": 5,
   "id": "5a9437d3-0132-4a32-be50-7821e4008aee",
   "metadata": {},
   "outputs": [
    {
     "name": "stdout",
     "output_type": "stream",
     "text": [
      "{\"id\": 1, \"answer\": 3, \"reasoning\": \"ИТМО впервые вошел в топ-400 мировых университетов по рейтингу QS World University Rankings в 2021 году\", \"sources\": [\"https://topreytings.ru/itmo-reyting-vuzov-mira/\", \"https://assistent-system.ru/reyting/reyting-itmo-sredi-vuzov-rossii-2021/\", \"https://news.itmo.ru/ru/university_live/ratings/news/9494/\"]}\n",
      "time  0:00:13.806190\n"
     ]
    }
   ],
   "source": [
    "from agent.agent import process_query\n",
    "input_question = \"В каком рейтинге (по состоянию на 2021 год) ИТМО впервые вошёл в топ-400 мировых университетов?\\n1. ARWU (Shanghai Ranking)\\n2. Times Higher Education (THE) World University Rankings\\n3. QS World University Rankings\\n4. U.S. News & World Report Best Global Universities\"\n",
    "\n",
    "from datetime import datetime\n",
    "\n",
    "start = datetime.now()\n",
    "output = process_query(input_question, 1)\n",
    "print(output)\n",
    "\n",
    "print('time ', datetime.now()-start)\n"
   ]
  },
  {
   "cell_type": "markdown",
   "id": "9025d63a-8bd8-4709-be20-ca2f0d6ae955",
   "metadata": {},
   "source": [
    "## Работа с запросом в формате АПИ"
   ]
  },
  {
   "cell_type": "code",
   "execution_count": 6,
   "id": "d0d3f945-8bcb-4ed1-99bf-f18e49c1f1ea",
   "metadata": {},
   "outputs": [
    {
     "name": "stdout",
     "output_type": "stream",
     "text": [
      "{\"id\": 1, \"answer\": 2, \"reasoning\": \"главный кампус Университета ИТМО находится в Санкт-Петербурге\", \"sources\": []}\n",
      "time  0:00:07.999394\n"
     ]
    }
   ],
   "source": [
    "req = {\n",
    "  \"query\": \"В каком городе находится главный кампус Университета ИТМО?\\n1. Москва\\n2. Санкт-Петербург\\n3. Екатеринбург\\n4. Нижний Новгород\",\n",
    "  \"id\": 1\n",
    "}\n",
    "\n",
    "start = datetime.now()\n",
    "output = process_query(req['query'], 1)\n",
    "print(output)\n",
    "print('time ', datetime.now()-start)\n"
   ]
  },
  {
   "cell_type": "markdown",
   "id": "ab23aeba-5f2f-4972-a4b0-275a029ed7e0",
   "metadata": {},
   "source": [
    "## Run multiple tests"
   ]
  },
  {
   "cell_type": "markdown",
   "id": "2e02ea7e-24cd-4f0f-8614-4cc68c92334b",
   "metadata": {},
   "source": [
    "**Вопросы, сгенеренные с помощью перплексити**"
   ]
  },
  {
   "cell_type": "code",
   "execution_count": 28,
   "id": "bfd905cc-b8ce-4756-b017-c1539234cf4a",
   "metadata": {},
   "outputs": [],
   "source": [
    "questions = [\n",
    "    {\n",
    "        \"question\": \"В каком году был основан Университет ИТМО?\\n1.1945 годl\\n2.1917 год\\n3.1900 год\\n4.1980 год\",\n",
    "        \"answer_num\": 3\n",
    "    },\n",
    "    {\n",
    "        \"question\": \"Какое первоначальное название имело учебное заведение, предшествующее ИТМО?\\n1.Ленинградский политехнический институт\\n2.Механико-оптическое и часовое отделение\\n3.Институт точной механики\\n4.Институт оптики и фотоники\",\n",
    "        \"answer_num\": 2\n",
    "    },\n",
    "    {\n",
    "        \"question\": \"Когда университет получил статус национального исследовательского университета?\\n1.В 2005 году\\n2.В 2010 году\\n3.В 2009 году\\n4.В 2012 году\",\n",
    "        \"answer_num\": 3\n",
    "    },\n",
    "    {\n",
    "        \"question\": \"Какое здание стало современным главным зданием университета?\\n1.Здание на Кронверкском проспекте\\n2.Здание на Невском проспекте\\n3.Здание на Московском проспекте\\n4.Здание на Лиговском проспекте\",\n",
    "        \"answer_num\": 1\n",
    "    },\n",
    "    {\n",
    "        \"question\": \"Какой орден был награждён Ленинградский институт точной механики и оптики в 1980 году?\\n1.Орден Почёта\\n2.Орден Дружбы народов\\n3.Орден Трудового Красного Знамени\\n4.Орден Знак Почёта\",\n",
    "        \"answer_num\": 3\n",
    "    },\n",
    "    {\n",
    "        \"question\": \"Когда ИТМО получил статус университета?\\n1.В 1994 году\\n2.В 1990 году\\n3.В 1996 году\\n4.В 2000 году\",\n",
    "        \"answer_num\": 1\n",
    "    },\n",
    "    {\n",
    "        \"question\": \"Кто является бессменным ректором университета с 1996 года?\\n1.Сергей Петров\\n2.Александр Кулешов\\n3.Игорь Кузнецов\\n4.Владимир Васильев\",\n",
    "        \"answer_num\": 4\n",
    "    },\n",
    "    {\n",
    "        \"question\": \"Сколько корпусов и общежитий имеет университет на 2022 год?\\n1.12 корпусов и 6 общежитий\\n2.10 корпусов и 5 общежитий\\n3.15 корпусов и 8 общежитий\\n4.20 корпусов и 10 общежитий\",\n",
    "        \"answer_num\": 1\n",
    "    },\n",
    "    {\n",
    "        \"question\": \"Какое событие произошло в 1917 году, связанное с университетом?\\n1.Отделение выделилось в самостоятельное учебное заведение\\n2.Переименование института\\n3.Открытие нового факультета\\n4.Закрытие института\",\n",
    "        \"answer_num\": 1\n",
    "    },\n",
    "]"
   ]
  },
  {
   "cell_type": "code",
   "execution_count": 22,
   "id": "385980e7-47c3-41d1-80f1-c21500e15d8d",
   "metadata": {},
   "outputs": [
    {
     "name": "stdout",
     "output_type": "stream",
     "text": [
      "Question:  В каком году был основан Университет ИТМО?\n",
      "1.1945 годl\n",
      "2.1917 год\n",
      "3.1900 год\n",
      "4.1980 год\n",
      "Answer:  3\n",
      "Reasoning: Университет ИТМО был основан в 1900 году.\n",
      "Sources: \n",
      "Corect!!!\n",
      "time  0:00:05.914324\n",
      "\n",
      "\n",
      "\n",
      "Question:  Какое первоначальное название имело учебное заведение, предшествующее ИТМО?\n",
      "1.Ленинградский политехнический институт\n",
      "2.Механико-оптическое и часовое отделение\n",
      "3.Институт точной механики\n",
      "4.Институт оптики и фотоники\n",
      "Answer:  2\n",
      "Reasoning: Механико-оптическое и часовое отделение\n",
      "Sources: \n",
      "Corect!!!\n",
      "time  0:00:06.074372\n",
      "\n",
      "\n",
      "\n",
      "Question:  Когда университет получил статус национального исследовательского университета?\n",
      "1.В 2005 году\n",
      "2.В 2010 году\n",
      "3.В 2009 году\n",
      "4.В 2012 году\n",
      "Answer:  3\n",
      "Reasoning: Университет ИТМО получил статус национального исследовательского университета в 2009 году\n",
      "Sources: https://russiaedu.ru/vuz/78/ifmo/, https://nanojournal.ifmo.ru/university_itmo/, https://ru.wikipedia.org/wiki/Университет_ИТМО\n",
      "Corect!!!\n",
      "time  0:00:10.263539\n",
      "\n",
      "\n",
      "\n",
      "Question:  Какое здание стало современным главным зданием университета?\n",
      "1.Здание на Кронверкском проспекте\n",
      "2.Здание на Невском проспекте\n",
      "3.Здание на Московском проспекте\n",
      "4.Здание на Лиговском проспекте\n",
      "Answer:  1\n",
      "Reasoning: Здание на Кронверкском проспекте стало современным главным зданием Университета ИТМО\n",
      "Sources: \n",
      "Corect!!!\n",
      "time  0:00:05.663043\n",
      "\n",
      "\n",
      "\n",
      "Question:  Какой орден был награждён Ленинградский институт точной механики и оптики в 1980 году?\n",
      "1.Орден Почёта\n",
      "2.Орден Дружбы народов\n",
      "3.Орден Трудового Красного Знамени\n",
      "4.Орден Знак Почёта\n",
      "Answer:  3\n",
      "Reasoning: Ленинградский институт точной механики и оптики был награжден орденом Трудового Красного Знамени в 1980 году\n",
      "Sources: https://museum.itmo.ru/pages/128/148/, https://slovar.cc/enc/bse/2011795.html, https://www.citywalls.ru/house3687.html\n",
      "Corect!!!\n",
      "time  0:00:09.388221\n",
      "\n",
      "\n",
      "\n",
      "Question:  Когда ИТМО получил статус университета?\n",
      "1.В 1994 году\n",
      "2.В 1990 году\n",
      "3.В 1996 году\n",
      "4.В 2000 году\n",
      "Answer:  1\n",
      "Reasoning: Университет ИТМО получил статус университета в 1994 году\n",
      "Sources: https://ru.wikipedia.org/wiki/История_Университета_ИТМО, https://museum.itmo.ru/page/128/, https://books.ifmo.ru/file/pdf/1008.pdf\n",
      "Corect!!!\n",
      "time  0:00:10.676346\n",
      "\n",
      "\n",
      "\n",
      "Question:  Кто является бессменным ректором университета с 1996 года?\n",
      "1.Сергей Петров\n",
      "2.Александр Кулешов\n",
      "3.Игорь Кузнецов\n",
      "4.Владимир Васильев\n",
      "Answer:  4\n",
      "Reasoning: Владимир Васильев является бессменным ректором университета с 1996 года\n",
      "Sources: \n",
      "Corect!!!\n",
      "time  0:00:06.425845\n",
      "\n",
      "\n",
      "\n",
      "Question:  Сколько корпусов и общежитий имеет университет на 2022 год?\n",
      "1.12 корпусов и 6 общежитий\n",
      "2.10 корпусов и 5 общежитий\n",
      "3.15 корпусов и 8 общежитий\n",
      "4.20 корпусов и 10 общежитий\n",
      "Answer:  None\n",
      "Reasoning: На 2022 год в университете ИТМО есть 22 общежития\n",
      "Sources: https://student.itmo.ru/ru/booking/, https://student.itmo.ru/ru/dormitory/, https://ru.wikipedia.org/wiki/Университет_ИТМО\n",
      "Wrong :(\n",
      "time  0:00:10.390777\n",
      "\n",
      "\n",
      "\n",
      "Question:  Какое событие произошло в 1917 году, связанное с университетом?\n",
      "1.Отделение выделилось в самостоятельное учебное заведение\n",
      "2.Переименование института\n",
      "3.Открытие нового факультета\n",
      "4.Закрытие института\n",
      "Answer:  1\n",
      "Reasoning: Отделение университета и его выделение в самостоятельное учебное заведение\n",
      "Sources: \n",
      "Corect!!!\n",
      "time  0:00:05.377673\n",
      "\n",
      "\n",
      "\n"
     ]
    }
   ],
   "source": [
    "for question in questions:\n",
    "    print('Question: ', question['question'])\n",
    "    start = datetime.now()\n",
    "    output = json.loads(process_query(question['question'], 1))\n",
    "    answer = output['answer']\n",
    "    print('Answer: ', answer)\n",
    "    print('Reasoning:', output['reasoning'])\n",
    "    print('Sources:', \", \".join(output['sources']))\n",
    "    if answer==question['answer_num']:\n",
    "        print('Corect!!!')\n",
    "    else:\n",
    "        print('Wrong :(')\n",
    "    print('time ', datetime.now()-start)\n",
    "    print('\\n\\n')\n"
   ]
  },
  {
   "cell_type": "code",
   "execution_count": null,
   "id": "b1d3a17c-1f2e-407e-82ff-aa6b4b93842b",
   "metadata": {},
   "outputs": [],
   "source": []
  }
 ],
 "metadata": {
  "kernelspec": {
   "display_name": "Python 3 (ipykernel)",
   "language": "python",
   "name": "python3"
  },
  "language_info": {
   "codemirror_mode": {
    "name": "ipython",
    "version": 3
   },
   "file_extension": ".py",
   "mimetype": "text/x-python",
   "name": "python",
   "nbconvert_exporter": "python",
   "pygments_lexer": "ipython3",
   "version": "3.12.4"
  }
 },
 "nbformat": 4,
 "nbformat_minor": 5
}
